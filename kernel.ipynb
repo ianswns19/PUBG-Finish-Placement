{
  "cells": [
    {
      "metadata": {
        "_uuid": "8f2839f25d086af736a60e9eeb907d3b93b6e0e5",
        "_cell_guid": "b1076dfc-b9ad-4769-8c92-a6c4dae69d19",
        "trusted": true
      },
      "cell_type": "code",
      "source": "import numpy as np # linear algebra\nimport pandas as pd # data processing, CSV file I/O (e.g. pd.read_csv)\nfrom sklearn.preprocessing import LabelEncoder, OneHotEncoder\nimport matplotlib.pyplot as plt # Collection of functions for scientific and publication-ready visualization\nimport seaborn as sns  # Visualization library based on matplotlib, provides interface for drawing attractive statistical graphics\n\n# Input data files are available in the \"../input/\" directory.\n# For example, running this (by clicking run or pressing Shift+Enter) will list the files in the input directory\n\nimport os\nprint(os.listdir(\"../input\"))\n\ndef reduce_mem_usage(df):\n    \"\"\" iterate through all the columns of a dataframe and modify the data type\n        to reduce memory usage.        \n    \"\"\"\n    start_mem = df.memory_usage().sum() / 1024**2\n    print('Memory usage of dataframe is {:.2f} MB'.format(start_mem))\n    \n    for col in df.columns:\n        col_type = df[col].dtype\n        \n        if col_type != object:\n            c_min = df[col].min()\n            c_max = df[col].max()\n            if str(col_type)[:3] == 'int':\n                if c_min > np.iinfo(np.int8).min and c_max < np.iinfo(np.int8).max:\n                    df[col] = df[col].astype(np.int8)\n                elif c_min > np.iinfo(np.int16).min and c_max < np.iinfo(np.int16).max:\n                    df[col] = df[col].astype(np.int16)\n                elif c_min > np.iinfo(np.int32).min and c_max < np.iinfo(np.int32).max:\n                    df[col] = df[col].astype(np.int32)\n                elif c_min > np.iinfo(np.int64).min and c_max < np.iinfo(np.int64).max:\n                    df[col] = df[col].astype(np.int64)  \n            else:\n                if c_min > np.finfo(np.float16).min and c_max < np.finfo(np.float16).max:\n                    df[col] = df[col].astype(np.float16)\n                elif c_min > np.finfo(np.float32).min and c_max < np.finfo(np.float32).max:\n                    df[col] = df[col].astype(np.float32)\n                else:\n                    df[col] = df[col].astype(np.float64)\n#        else:\n#            df[col] = df[col].astype('category')\n\n    end_mem = df.memory_usage().sum() / 1024**2\n    print('Memory usage after optimization is: {:.2f} MB'.format(end_mem))\n    print('Decreased by {:.1f}%'.format(100 * (start_mem - end_mem) / start_mem))\n    \n    return df",
      "execution_count": null,
      "outputs": []
    },
    {
      "metadata": {
        "_cell_guid": "79c7e3d0-c299-4dcb-8224-4455121ee9b0",
        "_uuid": "d629ff2d2480ee46fbb7e2d37f6b5fab8052498a",
        "trusted": true,
        "scrolled": true
      },
      "cell_type": "code",
      "source": "# Importing the traning set\ntraining_set = pd.read_csv(\"../input/train_V2.csv\") #read Train data\ntraining_set = training_set.dropna() #discard NaN values from training set",
      "execution_count": null,
      "outputs": []
    },
    {
      "metadata": {
        "trusted": true,
        "_uuid": "e89ead50e60c50e1145eb591f4519289d28e06d2"
      },
      "cell_type": "code",
      "source": "# label encode object attributes\nle = LabelEncoder()\ntrain_conv = training_set.select_dtypes(include=[object])\ntrain_conv = train_conv.apply(le.fit_transform)\ntraining_set[\"matchType\"] = train_conv[\"matchType\"]\n# training_set[\"Id\"] = train_conv[\"Id\"]\n# training_set[\"groupId\"] = train_conv[\"groupId\"]\n# training_set[\"matchId\"] = train_conv[\"matchId\"]",
      "execution_count": null,
      "outputs": []
    },
    {
      "metadata": {
        "trusted": true,
        "_uuid": "afad65d1f48975853e9a232b608fd1e79c447a84"
      },
      "cell_type": "code",
      "source": "training_set = reduce_mem_usage(training_set) # reduce memory usage\n\ntraining_set.head() # check format, NA should be gone",
      "execution_count": null,
      "outputs": []
    },
    {
      "metadata": {
        "trusted": true,
        "scrolled": false,
        "_uuid": "c39db0b42d7d4585e17b50f8fff4b803f7e0c161"
      },
      "cell_type": "code",
      "source": "# Pearson Heat map\ncolormap = plt.cm.RdBu\nplt.figure(figsize=(14,12))\nplt.title('Pearson Correlation of Features', y=1.05, size=15)\nsns.heatmap(training_set.iloc[:, 3:29].astype(float).corr(),linewidths=0.6,vmax=1.0, square=True, cmap=colormap, linecolor='white', annot=True)",
      "execution_count": null,
      "outputs": []
    },
    {
      "metadata": {
        "_uuid": "d53021c4a58b60d1123c0179b536934f9db1037b"
      },
      "cell_type": "markdown",
      "source": "Columns in question for removal for having close to 0 correlation on winPlacePerc\n* killPoints : 0.013\n* matchDuration: 0.0052\n* matchType: 0.029\n* maxPlace: 0.0370\n* numGroups: 0.040\n* rankPoints: 0.014\n* roadKills: 0.035\n* teamKills: 0.016\n* vehicleDestroys: 0.073\n* winPoints: 0.007"
    },
    {
      "metadata": {
        "trusted": true,
        "_uuid": "70a1dd90d62245f9f2fa8efe21dfd578379ca37f"
      },
      "cell_type": "code",
      "source": "# TODO (makes a difference?)\n# training_set = training_set.drop(columns = ['killPoints', 'matchDuration', 'matchType', 'maxPlace', 'numGroups', 'rankPoints', 'roadKills',\n#                                            'teamKills', 'vehicleDestroys', 'winPoints'])",
      "execution_count": null,
      "outputs": []
    },
    {
      "metadata": {
        "trusted": true,
        "_uuid": "6bf8d273c04f3cb8a5258e11de81fc792e8b230e"
      },
      "cell_type": "code",
      "source": "training_set.head()",
      "execution_count": null,
      "outputs": []
    },
    {
      "metadata": {
        "trusted": true,
        "_uuid": "a923632c7fb91d9abd8ba0eec8ff8600631536e1"
      },
      "cell_type": "code",
      "source": "X_train = training_set.iloc[:, 3:28]",
      "execution_count": null,
      "outputs": []
    },
    {
      "metadata": {
        "trusted": true,
        "_uuid": "aa8579fbb44539a11c42e5ad74bda69bbbf5b76c",
        "scrolled": false
      },
      "cell_type": "code",
      "source": "X_train.head() #check for correct changes",
      "execution_count": null,
      "outputs": []
    },
    {
      "metadata": {
        "trusted": true,
        "_uuid": "e79e4983b11ece1a99a55c0419f2de507044d449"
      },
      "cell_type": "code",
      "source": "y_train = training_set.iloc[:, 28]",
      "execution_count": null,
      "outputs": []
    },
    {
      "metadata": {
        "trusted": true,
        "_uuid": "3dac8ad1d1ae701f19866cd55e2ff37ad08b943e"
      },
      "cell_type": "code",
      "source": "y_train.head() #check for correct changes",
      "execution_count": null,
      "outputs": []
    },
    {
      "metadata": {
        "trusted": true,
        "_uuid": "0e045facb03e786eb142adde13b7a06909727364"
      },
      "cell_type": "code",
      "source": "X_train.head()",
      "execution_count": null,
      "outputs": []
    },
    {
      "metadata": {
        "trusted": true,
        "_uuid": "78fce9603bca6a27579b2924450e7a6d914b3371"
      },
      "cell_type": "code",
      "source": "from sklearn.model_selection import train_test_split\nX_train_train, X_train_test, y_train_train, y_train_test = train_test_split(X_train, y_train, test_size=0.50, random_state=42)",
      "execution_count": null,
      "outputs": []
    },
    {
      "metadata": {
        "_uuid": "c59e06fd8405ee0eaeb243e184e5c875ead87cc0"
      },
      "cell_type": "markdown",
      "source": "### Supervised Learning"
    },
    {
      "metadata": {
        "trusted": true,
        "_uuid": "745989a54155a0b9c453b91fb431f4a578404b30"
      },
      "cell_type": "code",
      "source": "# baseline linear regression testing\nfrom sklearn.linear_model import LinearRegression\nregressor = LinearRegression()",
      "execution_count": null,
      "outputs": []
    },
    {
      "metadata": {
        "trusted": true,
        "_uuid": "b9e05d1f86c46cb90ee88b2e1dd4ac111d5e7e34"
      },
      "cell_type": "code",
      "source": "regressor.fit(X_train_train, y_train_train)",
      "execution_count": null,
      "outputs": []
    },
    {
      "metadata": {
        "trusted": true,
        "_uuid": "04f5305c12d2d7da8815994f97caf0c8b99d45db"
      },
      "cell_type": "code",
      "source": "print(\"Accuracy on training set: \", regressor.score(X_train_train, y_train_train))\nprint(\"Accuracy on test set: \", regressor.score(X_train_test, y_train_test))",
      "execution_count": null,
      "outputs": []
    },
    {
      "metadata": {
        "trusted": true,
        "_uuid": "554f3bae0dbd25497f3270204a531dc290b7fc4f"
      },
      "cell_type": "code",
      "source": "# TODO (neural networks effective?)\n# from sklearn.preprocessing import StandardScaler\n# scaler = StandardScaler()\n# sc_X_train = scaler.fit_transform(X_train)",
      "execution_count": null,
      "outputs": []
    },
    {
      "metadata": {
        "trusted": true,
        "_uuid": "3363e8c4927154632e15a82d23b22a978f17c30e"
      },
      "cell_type": "code",
      "source": "# X_train_train_scaled, X_train_test_scaled, y_train_train_scaled, y_train_test_scaled = train_test_split(sc_X_train, y_train, test_size=1/3, random_state=42)",
      "execution_count": null,
      "outputs": []
    },
    {
      "metadata": {
        "trusted": true,
        "_uuid": "1ddb59e85ac9011b10cbc5b91996e7e73bb6ec70"
      },
      "cell_type": "code",
      "source": "# from sklearn.neural_network import MLPRegressor\n# regr = MLPRegressor(solver='lbfgs', alpha=1e-5, hidden_layer_sizes=(5, 2), random_state=1, max_iter = 200)\n# regr.fit(X_train_train_scaled, y_train_train_scaled)\n# print(\"Score on Training Set: \", regr.score(X_train_train_scaled, y_train_train_scaled))\n# print(\"Score on Test Set: \", regr.score(X_train_test_scaled, y_train_test_scaled))",
      "execution_count": null,
      "outputs": []
    },
    {
      "metadata": {
        "_uuid": "ec610d96a8791be221d853a5b1c11e1a98333e98"
      },
      "cell_type": "markdown",
      "source": "### Test File Submission"
    },
    {
      "metadata": {
        "trusted": true,
        "_uuid": "3e26b3a75fbaaf477884d3f5fa46709aeaa8fe0a"
      },
      "cell_type": "code",
      "source": "# Importing the test set\ntest_set = pd.read_csv(\"../input/test_V2.csv\")\n\nle = LabelEncoder()\ntest_conv = test_set.select_dtypes(include=[object])\ntest_conv = test_conv.apply(le.fit_transform)\ntest_set[\"matchType\"] = test_conv[\"matchType\"]\ntest_set = reduce_mem_usage(test_set)\n\ntest_set.head()",
      "execution_count": 26,
      "outputs": [
        {
          "output_type": "stream",
          "text": "Memory usage of dataframe is 413.18 MB\nMemory usage after optimization is: 108.83 MB\nDecreased by 73.7%\n",
          "name": "stdout"
        },
        {
          "output_type": "execute_result",
          "execution_count": 26,
          "data": {
            "text/plain": "               Id         groupId    ...     weaponsAcquired  winPoints\n0  9329eb41e215eb  676b23c24e70d6    ...                   1          0\n1  639bd0dcd7bda8  430933124148dd    ...                   6          0\n2  63d5c8ef8dfe91  0b45f5db20ba99    ...                   4          0\n3  cf5b81422591d1  b7497dbdc77f4a    ...                   3          0\n4  ee6a295187ba21  6604ce20a1d230    ...                   4          0\n\n[5 rows x 28 columns]",
            "text/html": "<div>\n<style scoped>\n    .dataframe tbody tr th:only-of-type {\n        vertical-align: middle;\n    }\n\n    .dataframe tbody tr th {\n        vertical-align: top;\n    }\n\n    .dataframe thead th {\n        text-align: right;\n    }\n</style>\n<table border=\"1\" class=\"dataframe\">\n  <thead>\n    <tr style=\"text-align: right;\">\n      <th></th>\n      <th>Id</th>\n      <th>groupId</th>\n      <th>matchId</th>\n      <th>assists</th>\n      <th>boosts</th>\n      <th>damageDealt</th>\n      <th>DBNOs</th>\n      <th>headshotKills</th>\n      <th>heals</th>\n      <th>killPlace</th>\n      <th>killPoints</th>\n      <th>kills</th>\n      <th>killStreaks</th>\n      <th>longestKill</th>\n      <th>matchDuration</th>\n      <th>matchType</th>\n      <th>maxPlace</th>\n      <th>numGroups</th>\n      <th>rankPoints</th>\n      <th>revives</th>\n      <th>rideDistance</th>\n      <th>roadKills</th>\n      <th>swimDistance</th>\n      <th>teamKills</th>\n      <th>vehicleDestroys</th>\n      <th>walkDistance</th>\n      <th>weaponsAcquired</th>\n      <th>winPoints</th>\n    </tr>\n  </thead>\n  <tbody>\n    <tr>\n      <th>0</th>\n      <td>9329eb41e215eb</td>\n      <td>676b23c24e70d6</td>\n      <td>45b576ab7daa7f</td>\n      <td>0</td>\n      <td>0</td>\n      <td>51.46875</td>\n      <td>0</td>\n      <td>0</td>\n      <td>0</td>\n      <td>73</td>\n      <td>0</td>\n      <td>0</td>\n      <td>0</td>\n      <td>0.0000</td>\n      <td>1884</td>\n      <td>15</td>\n      <td>28</td>\n      <td>28</td>\n      <td>1500</td>\n      <td>0</td>\n      <td>0.0</td>\n      <td>0</td>\n      <td>0.0</td>\n      <td>0</td>\n      <td>0</td>\n      <td>588.0</td>\n      <td>1</td>\n      <td>0</td>\n    </tr>\n    <tr>\n      <th>1</th>\n      <td>639bd0dcd7bda8</td>\n      <td>430933124148dd</td>\n      <td>42a9a0b906c928</td>\n      <td>0</td>\n      <td>4</td>\n      <td>179.12500</td>\n      <td>0</td>\n      <td>0</td>\n      <td>2</td>\n      <td>11</td>\n      <td>0</td>\n      <td>2</td>\n      <td>1</td>\n      <td>362.0000</td>\n      <td>1811</td>\n      <td>3</td>\n      <td>48</td>\n      <td>47</td>\n      <td>1503</td>\n      <td>2</td>\n      <td>4668.0</td>\n      <td>0</td>\n      <td>0.0</td>\n      <td>0</td>\n      <td>0</td>\n      <td>2017.0</td>\n      <td>6</td>\n      <td>0</td>\n    </tr>\n    <tr>\n      <th>2</th>\n      <td>63d5c8ef8dfe91</td>\n      <td>0b45f5db20ba99</td>\n      <td>87e7e4477a048e</td>\n      <td>1</td>\n      <td>0</td>\n      <td>23.40625</td>\n      <td>0</td>\n      <td>0</td>\n      <td>4</td>\n      <td>49</td>\n      <td>0</td>\n      <td>0</td>\n      <td>0</td>\n      <td>0.0000</td>\n      <td>1793</td>\n      <td>15</td>\n      <td>28</td>\n      <td>27</td>\n      <td>1565</td>\n      <td>0</td>\n      <td>0.0</td>\n      <td>0</td>\n      <td>0.0</td>\n      <td>0</td>\n      <td>0</td>\n      <td>788.0</td>\n      <td>4</td>\n      <td>0</td>\n    </tr>\n    <tr>\n      <th>3</th>\n      <td>cf5b81422591d1</td>\n      <td>b7497dbdc77f4a</td>\n      <td>1b9a94f1af67f1</td>\n      <td>0</td>\n      <td>0</td>\n      <td>65.50000</td>\n      <td>0</td>\n      <td>0</td>\n      <td>0</td>\n      <td>54</td>\n      <td>0</td>\n      <td>0</td>\n      <td>0</td>\n      <td>0.0000</td>\n      <td>1834</td>\n      <td>3</td>\n      <td>45</td>\n      <td>44</td>\n      <td>1465</td>\n      <td>0</td>\n      <td>0.0</td>\n      <td>0</td>\n      <td>0.0</td>\n      <td>0</td>\n      <td>0</td>\n      <td>1812.0</td>\n      <td>3</td>\n      <td>0</td>\n    </tr>\n    <tr>\n      <th>4</th>\n      <td>ee6a295187ba21</td>\n      <td>6604ce20a1d230</td>\n      <td>40754a93016066</td>\n      <td>0</td>\n      <td>4</td>\n      <td>330.25000</td>\n      <td>1</td>\n      <td>2</td>\n      <td>1</td>\n      <td>7</td>\n      <td>0</td>\n      <td>3</td>\n      <td>1</td>\n      <td>60.0625</td>\n      <td>1326</td>\n      <td>15</td>\n      <td>28</td>\n      <td>27</td>\n      <td>1480</td>\n      <td>1</td>\n      <td>0.0</td>\n      <td>0</td>\n      <td>0.0</td>\n      <td>0</td>\n      <td>0</td>\n      <td>2964.0</td>\n      <td>4</td>\n      <td>0</td>\n    </tr>\n  </tbody>\n</table>\n</div>"
          },
          "metadata": {}
        }
      ]
    },
    {
      "metadata": {
        "trusted": true,
        "_uuid": "58f334e9f0760f742debc71ae42f14721a13da26"
      },
      "cell_type": "code",
      "source": "X_test = test_set.iloc[:, 3:28]",
      "execution_count": null,
      "outputs": []
    },
    {
      "metadata": {
        "trusted": true,
        "_uuid": "321850aab39f4f22534aedf5c0f5a64dce6f8dc1"
      },
      "cell_type": "code",
      "source": "X_test.head()",
      "execution_count": null,
      "outputs": []
    },
    {
      "metadata": {
        "trusted": true,
        "_uuid": "2ae49d32c866617dfa0ad4ba84300c1418e344cd"
      },
      "cell_type": "code",
      "source": "# random forest model\nfrom sklearn.ensemble import RandomForestRegressor\ntest_regressor = RandomForestRegressor()\n\n# LinearSVC model\n# from sklearn.svm import LinearSVC\n# test_regressor = LinearSVC()",
      "execution_count": null,
      "outputs": []
    },
    {
      "metadata": {
        "trusted": true,
        "_uuid": "dfc869dfb269539e07b9a53811e9c2eeb93baea0"
      },
      "cell_type": "code",
      "source": "test_regressor.fit(X_train, y_train) #fit X train and Y train data using uncommented model",
      "execution_count": null,
      "outputs": []
    },
    {
      "metadata": {
        "trusted": true,
        "_uuid": "4c8945cdfdba957a43530c2950494fe827760d7f"
      },
      "cell_type": "code",
      "source": "y_pred = test_regressor.predict(X_test) #predict win place percentage Result using X_test",
      "execution_count": null,
      "outputs": []
    },
    {
      "metadata": {
        "trusted": true,
        "_uuid": "0caf4d83ed3a19cf3e38a5dddfa1ab5485f13f7c"
      },
      "cell_type": "code",
      "source": "data_to_submit = pd.DataFrame({\n    'Id':test_set['Id'],\n    'winPlacePerc':y_pred\n})\ndata_to_submit.to_csv('csv_to_submit.csv', index = False)",
      "execution_count": 27,
      "outputs": [
        {
          "output_type": "error",
          "ename": "NameError",
          "evalue": "name 'y_pred' is not defined",
          "traceback": [
            "\u001b[0;31m---------------------------------------------------------------------------\u001b[0m",
            "\u001b[0;31mNameError\u001b[0m                                 Traceback (most recent call last)",
            "\u001b[0;32m<ipython-input-27-d34274e0f5e0>\u001b[0m in \u001b[0;36m<module>\u001b[0;34m()\u001b[0m\n\u001b[1;32m      1\u001b[0m data_to_submit = pd.DataFrame({\n\u001b[1;32m      2\u001b[0m     \u001b[0;34m'Id'\u001b[0m\u001b[0;34m:\u001b[0m\u001b[0mtest_set\u001b[0m\u001b[0;34m[\u001b[0m\u001b[0;34m'Id'\u001b[0m\u001b[0;34m]\u001b[0m\u001b[0;34m,\u001b[0m\u001b[0;34m\u001b[0m\u001b[0m\n\u001b[0;32m----> 3\u001b[0;31m     \u001b[0;34m'winPlacePerc'\u001b[0m\u001b[0;34m:\u001b[0m\u001b[0my_pred\u001b[0m\u001b[0;34m\u001b[0m\u001b[0m\n\u001b[0m\u001b[1;32m      4\u001b[0m })\n\u001b[1;32m      5\u001b[0m \u001b[0mdata_to_submit\u001b[0m\u001b[0;34m.\u001b[0m\u001b[0mto_csv\u001b[0m\u001b[0;34m(\u001b[0m\u001b[0;34m'csv_to_submit.csv'\u001b[0m\u001b[0;34m,\u001b[0m \u001b[0mindex\u001b[0m \u001b[0;34m=\u001b[0m \u001b[0;32mFalse\u001b[0m\u001b[0;34m)\u001b[0m\u001b[0;34m\u001b[0m\u001b[0m\n",
            "\u001b[0;31mNameError\u001b[0m: name 'y_pred' is not defined"
          ]
        }
      ]
    },
    {
      "metadata": {
        "trusted": true,
        "_uuid": "d93849e72d4eb98e802a5a1dc45be089dc1bb0b5"
      },
      "cell_type": "code",
      "source": "data_to_submit.count() #view submission spreadsheet count",
      "execution_count": null,
      "outputs": []
    }
  ],
  "metadata": {
    "kernelspec": {
      "display_name": "Python 3",
      "language": "python",
      "name": "python3"
    },
    "language_info": {
      "name": "python",
      "version": "3.6.6",
      "mimetype": "text/x-python",
      "codemirror_mode": {
        "name": "ipython",
        "version": 3
      },
      "pygments_lexer": "ipython3",
      "nbconvert_exporter": "python",
      "file_extension": ".py"
    }
  },
  "nbformat": 4,
  "nbformat_minor": 1
}