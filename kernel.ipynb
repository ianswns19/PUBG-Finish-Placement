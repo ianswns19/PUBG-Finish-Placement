{
  "cells": [
    {
      "metadata": {
        "_uuid": "8f2839f25d086af736a60e9eeb907d3b93b6e0e5",
        "_cell_guid": "b1076dfc-b9ad-4769-8c92-a6c4dae69d19",
        "trusted": true
      },
      "cell_type": "code",
      "source": "# This Python 3 environment comes with many helpful analytics libraries installed\n# It is defined by the kaggle/python docker image: https://github.com/kaggle/docker-python\n# For example, here's several helpful packages to load in \n\nimport numpy as np # linear algebra\nimport pandas as pd # data processing, CSV file I/O (e.g. pd.read_csv)\nfrom sklearn.preprocessing import LabelEncoder, OneHotEncoder\n\n# Input data files are available in the \"../input/\" directory.\n# For example, running this (by clicking run or pressing Shift+Enter) will list the files in the input directory\n\nimport os\nprint(os.listdir(\"../input\"))\n\ndef reduce_mem_usage(df):\n    \"\"\" iterate through all the columns of a dataframe and modify the data type\n        to reduce memory usage.        \n    \"\"\"\n    start_mem = df.memory_usage().sum() / 1024**2\n    print('Memory usage of dataframe is {:.2f} MB'.format(start_mem))\n    \n    for col in df.columns:\n        col_type = df[col].dtype\n        \n        if col_type != object:\n            c_min = df[col].min()\n            c_max = df[col].max()\n            if str(col_type)[:3] == 'int':\n                if c_min > np.iinfo(np.int8).min and c_max < np.iinfo(np.int8).max:\n                    df[col] = df[col].astype(np.int8)\n                elif c_min > np.iinfo(np.int16).min and c_max < np.iinfo(np.int16).max:\n                    df[col] = df[col].astype(np.int16)\n                elif c_min > np.iinfo(np.int32).min and c_max < np.iinfo(np.int32).max:\n                    df[col] = df[col].astype(np.int32)\n                elif c_min > np.iinfo(np.int64).min and c_max < np.iinfo(np.int64).max:\n                    df[col] = df[col].astype(np.int64)  \n            else:\n                if c_min > np.finfo(np.float16).min and c_max < np.finfo(np.float16).max:\n                    df[col] = df[col].astype(np.float16)\n                elif c_min > np.finfo(np.float32).min and c_max < np.finfo(np.float32).max:\n                    df[col] = df[col].astype(np.float32)\n                else:\n                    df[col] = df[col].astype(np.float64)\n#        else:\n#            df[col] = df[col].astype('category')\n\n    end_mem = df.memory_usage().sum() / 1024**2\n    print('Memory usage after optimization is: {:.2f} MB'.format(end_mem))\n    print('Decreased by {:.1f}%'.format(100 * (start_mem - end_mem) / start_mem))\n    \n    return df",
      "execution_count": null,
      "outputs": []
    },
    {
      "metadata": {
        "_cell_guid": "79c7e3d0-c299-4dcb-8224-4455121ee9b0",
        "_uuid": "d629ff2d2480ee46fbb7e2d37f6b5fab8052498a",
        "trusted": true
      },
      "cell_type": "code",
      "source": "# Importing the traning set\ntraining_set = pd.read_csv(\"../input/train_V2.csv\")\ntraining_set = training_set.dropna()\n\ntraining_set = reduce_mem_usage(training_set)\n\ntraining_set.head()",
      "execution_count": null,
      "outputs": []
    },
    {
      "metadata": {
        "trusted": true,
        "_uuid": "2ee181519e06ad1219c3c05aec97671426cc4633"
      },
      "cell_type": "code",
      "source": "# Importing the test set\ntest_set = pd.read_csv(\"../input/test_V2.csv\")\n\ntest_set = reduce_mem_usage(test_set)\n\ntest_set.head()",
      "execution_count": null,
      "outputs": []
    },
    {
      "metadata": {
        "trusted": true,
        "_uuid": "986132159216763a4fd82eb49df4ae5c3f1d6da8"
      },
      "cell_type": "code",
      "source": "test_set = test_set.drop(columns = ['matchType'])",
      "execution_count": null,
      "outputs": []
    },
    {
      "metadata": {
        "trusted": true,
        "_uuid": "29920c21596e8462878554788dd3000a938523d1"
      },
      "cell_type": "code",
      "source": "test_set.head()",
      "execution_count": null,
      "outputs": []
    },
    {
      "metadata": {
        "trusted": true,
        "_uuid": "9e227ea7261bb49ec3cc8ec1b28a9bf9e51fdb62"
      },
      "cell_type": "code",
      "source": "training_set = training_set.drop(columns = ['matchType'])",
      "execution_count": null,
      "outputs": []
    },
    {
      "metadata": {
        "trusted": true,
        "_uuid": "70a1dd90d62245f9f2fa8efe21dfd578379ca37f"
      },
      "cell_type": "code",
      "source": "training_set.head()",
      "execution_count": null,
      "outputs": []
    },
    {
      "metadata": {
        "trusted": true,
        "_uuid": "a923632c7fb91d9abd8ba0eec8ff8600631536e1"
      },
      "cell_type": "code",
      "source": "X_train = training_set.iloc[:, 3:26]",
      "execution_count": null,
      "outputs": []
    },
    {
      "metadata": {
        "trusted": true,
        "_uuid": "aa8579fbb44539a11c42e5ad74bda69bbbf5b76c"
      },
      "cell_type": "code",
      "source": "X_train.head()",
      "execution_count": null,
      "outputs": []
    },
    {
      "metadata": {
        "trusted": true,
        "_uuid": "e79e4983b11ece1a99a55c0419f2de507044d449"
      },
      "cell_type": "code",
      "source": "y_train = training_set.iloc[:, 27]",
      "execution_count": null,
      "outputs": []
    },
    {
      "metadata": {
        "trusted": true,
        "_uuid": "3dac8ad1d1ae701f19866cd55e2ff37ad08b943e"
      },
      "cell_type": "code",
      "source": "y_train.head()",
      "execution_count": null,
      "outputs": []
    },
    {
      "metadata": {
        "trusted": true,
        "_uuid": "ce222213a97597a2558f4e614ab5754de10a3b53"
      },
      "cell_type": "code",
      "source": "X_test = test_set.iloc[:, 3:26]",
      "execution_count": null,
      "outputs": []
    },
    {
      "metadata": {
        "trusted": true,
        "_uuid": "d1e52d91f88e90fe04c1aba0ea69ea0258da49ec"
      },
      "cell_type": "code",
      "source": "X_test.head()",
      "execution_count": null,
      "outputs": []
    },
    {
      "metadata": {
        "trusted": true,
        "_uuid": "0e045facb03e786eb142adde13b7a06909727364"
      },
      "cell_type": "code",
      "source": "X_train.head()",
      "execution_count": null,
      "outputs": []
    },
    {
      "metadata": {
        "trusted": true,
        "_uuid": "78fce9603bca6a27579b2924450e7a6d914b3371"
      },
      "cell_type": "code",
      "source": "from sklearn.model_selection import train_test_split\nX_train_train, X_train_test, y_train_train, y_train_test = train_test_split(X_train, y_train, test_size=0.50, random_state=42)",
      "execution_count": null,
      "outputs": []
    },
    {
      "metadata": {
        "trusted": true,
        "_uuid": "745989a54155a0b9c453b91fb431f4a578404b30"
      },
      "cell_type": "code",
      "source": "from sklearn.linear_model import LinearRegression\nregressor = LinearRegression()",
      "execution_count": null,
      "outputs": []
    },
    {
      "metadata": {
        "trusted": true,
        "_uuid": "b9e05d1f86c46cb90ee88b2e1dd4ac111d5e7e34"
      },
      "cell_type": "code",
      "source": "regressor.fit(X_train_train, y_train_train)",
      "execution_count": null,
      "outputs": []
    },
    {
      "metadata": {
        "trusted": true,
        "_uuid": "04f5305c12d2d7da8815994f97caf0c8b99d45db"
      },
      "cell_type": "code",
      "source": "print(\"Accuracy on training set: \", regressor.score(X_train_train, y_train_train))\nprint(\"Accuracy on test set: \", regressor.score(X_train_test, y_train_test))",
      "execution_count": null,
      "outputs": []
    },
    {
      "metadata": {
        "trusted": true,
        "_uuid": "554f3bae0dbd25497f3270204a531dc290b7fc4f"
      },
      "cell_type": "code",
      "source": "from sklearn.preprocessing import StandardScaler\nscaler = StandardScaler()\nsc_X_train = scaler.fit_transform(X_train)",
      "execution_count": null,
      "outputs": []
    },
    {
      "metadata": {
        "trusted": true,
        "_uuid": "3363e8c4927154632e15a82d23b22a978f17c30e"
      },
      "cell_type": "code",
      "source": "X_train_train_scaled, X_train_test_scaled, y_train_train_scaled, y_train_test_scaled = train_test_split(sc_X_train, y_train, test_size=1/3, random_state=42)",
      "execution_count": null,
      "outputs": []
    },
    {
      "metadata": {
        "trusted": true,
        "_uuid": "1ddb59e85ac9011b10cbc5b91996e7e73bb6ec70"
      },
      "cell_type": "code",
      "source": "from sklearn.neural_network import MLPRegressor\nregr = MLPRegressor(solver='lbfgs', alpha=1e-5, hidden_layer_sizes=(5, 2), random_state=1, max_iter = 200)\nregr.fit(X_train_train_scaled, y_train_train_scaled)\nprint(\"Score on Training Set: \", regr.score(X_train_train_scaled, y_train_train_scaled))\nprint(\"Score on Test Set: \", regr.score(X_train_test_scaled, y_train_test_scaled))",
      "execution_count": null,
      "outputs": []
    },
    {
      "metadata": {
        "trusted": true,
        "_uuid": "2ae49d32c866617dfa0ad4ba84300c1418e344cd"
      },
      "cell_type": "code",
      "source": "from sklearn.ensemble import RandomForestRegressor\nrf_regressor = RandomForestRegressor()",
      "execution_count": null,
      "outputs": []
    },
    {
      "metadata": {
        "trusted": true,
        "_uuid": "dfc869dfb269539e07b9a53811e9c2eeb93baea0"
      },
      "cell_type": "code",
      "source": "rf_regressor.fit(X_train, y_train)",
      "execution_count": null,
      "outputs": []
    },
    {
      "metadata": {
        "trusted": true,
        "_uuid": "4c8945cdfdba957a43530c2950494fe827760d7f"
      },
      "cell_type": "code",
      "source": "y_pred = rf_regressor.predict(X_test)",
      "execution_count": null,
      "outputs": []
    },
    {
      "metadata": {
        "trusted": true,
        "_uuid": "0caf4d83ed3a19cf3e38a5dddfa1ab5485f13f7c"
      },
      "cell_type": "code",
      "source": "data_to_submit = pd.DataFrame({\n    'Id':test_set['Id'],\n    'winPlacePerc':y_pred\n})\ndata_to_submit.to_csv('csv_to_submit.csv', index = False)",
      "execution_count": null,
      "outputs": []
    }
  ],
  "metadata": {
    "kernelspec": {
      "display_name": "Python 3",
      "language": "python",
      "name": "python3"
    },
    "language_info": {
      "name": "python",
      "version": "3.6.6",
      "mimetype": "text/x-python",
      "codemirror_mode": {
        "name": "ipython",
        "version": 3
      },
      "pygments_lexer": "ipython3",
      "nbconvert_exporter": "python",
      "file_extension": ".py"
    }
  },
  "nbformat": 4,
  "nbformat_minor": 1
}